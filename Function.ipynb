{
  "nbformat": 4,
  "nbformat_minor": 0,
  "metadata": {
    "colab": {
      "provenance": [],
      "authorship_tag": "ABX9TyOOg0lSQvLMSKXu6lYkFK7B",
      "include_colab_link": true
    },
    "kernelspec": {
      "name": "python3",
      "display_name": "Python 3"
    },
    "language_info": {
      "name": "python"
    }
  },
  "cells": [
    {
      "cell_type": "markdown",
      "metadata": {
        "id": "view-in-github",
        "colab_type": "text"
      },
      "source": [
        "<a href=\"https://colab.research.google.com/github/Rahul-554/Rahul_AIML/blob/main/Function.ipynb\" target=\"_parent\"><img src=\"https://colab.research.google.com/assets/colab-badge.svg\" alt=\"Open In Colab\"/></a>"
      ]
    },
    {
      "cell_type": "code",
      "source": [
        "def sum(a,b):\n",
        "  return(a+b)\n",
        "  \n",
        "print(sum(10,20))"
      ],
      "metadata": {
        "colab": {
          "base_uri": "https://localhost:8080/"
        },
        "id": "vjH4YSaimtsL",
        "outputId": "6a5e2d62-8306-41c4-833f-aee491930052"
      },
      "execution_count": 3,
      "outputs": [
        {
          "output_type": "stream",
          "name": "stdout",
          "text": [
            "30\n"
          ]
        }
      ]
    },
    {
      "cell_type": "code",
      "source": [
        "def show(rows):\n",
        "  for i in range(0,rows+1):\n",
        "    for j in range(i):\n",
        "      print(i,end='')\n",
        "    print()\n",
        "rows=int(input(\"enter the rows: \"))\n",
        "show(rows)"
      ],
      "metadata": {
        "colab": {
          "base_uri": "https://localhost:8080/"
        },
        "id": "_MZ3uXdBnQKF",
        "outputId": "af53a74d-0470-413b-f6ef-f6885d61bec7"
      },
      "execution_count": 8,
      "outputs": [
        {
          "output_type": "stream",
          "name": "stdout",
          "text": [
            "enter the rows: 5\n",
            "\n",
            "1\n",
            "22\n",
            "333\n",
            "4444\n",
            "55555\n"
          ]
        }
      ]
    },
    {
      "cell_type": "code",
      "source": [
        "def show(rows):\n",
        "  for i in range(rows, 0, -1):\n",
        "    for j in range(i):\n",
        "      print(i,end='')\n",
        "    print()\n",
        "rows=int(input(\"enter the rows: \"))\n",
        "show(rows)"
      ],
      "metadata": {
        "colab": {
          "base_uri": "https://localhost:8080/"
        },
        "id": "T3cnPIbCqGES",
        "outputId": "40b9ab0a-7f27-476f-e3a1-0c22d9643204"
      },
      "execution_count": 11,
      "outputs": [
        {
          "output_type": "stream",
          "name": "stdout",
          "text": [
            "enter the rows: 5\n",
            "55555\n",
            "4444\n",
            "333\n",
            "22\n",
            "1\n"
          ]
        }
      ]
    },
    {
      "cell_type": "code",
      "source": [
        "def greet():\n",
        "  message='Hello'\n",
        "  print('Local', message)\n",
        "greet()"
      ],
      "metadata": {
        "colab": {
          "base_uri": "https://localhost:8080/"
        },
        "id": "qxFWUr6-rwGi",
        "outputId": "0d1fc732-e548-48d2-bba2-34f72c5f01c9"
      },
      "execution_count": 12,
      "outputs": [
        {
          "output_type": "stream",
          "name": "stdout",
          "text": [
            "Local Hello\n"
          ]
        }
      ]
    },
    {
      "cell_type": "code",
      "source": [
        "def greet():\n",
        "  message='Hello'\n",
        "  print('Local', message)\n",
        "greet()\n",
        "message='ABIT CSE'\n",
        "print(message)"
      ],
      "metadata": {
        "colab": {
          "base_uri": "https://localhost:8080/"
        },
        "id": "riEzvjj1tU9q",
        "outputId": "11cc4e61-5153-4706-febe-405176aac72d"
      },
      "execution_count": 14,
      "outputs": [
        {
          "output_type": "stream",
          "name": "stdout",
          "text": [
            "Local Hello\n",
            "ABIT CSE\n"
          ]
        }
      ]
    },
    {
      "cell_type": "code",
      "source": [
        "add=lambda num:num+4\n",
        "print(add(6))"
      ],
      "metadata": {
        "colab": {
          "base_uri": "https://localhost:8080/"
        },
        "id": "Z_-MwwtNuIRc",
        "outputId": "b0098633-bc17-4cdc-a867-8561f921fd21"
      },
      "execution_count": 17,
      "outputs": [
        {
          "output_type": "stream",
          "name": "stdout",
          "text": [
            "10\n"
          ]
        }
      ]
    },
    {
      "cell_type": "code",
      "source": [
        "add = lambda x, y: x + y\n",
        "result = add(3, 4)\n",
        "print(result)   \n"
      ],
      "metadata": {
        "colab": {
          "base_uri": "https://localhost:8080/"
        },
        "id": "PtAPmZW8wFkE",
        "outputId": "3e952c6e-8e0f-4bb7-be04-166075aa6e4c"
      },
      "execution_count": 18,
      "outputs": [
        {
          "output_type": "stream",
          "name": "stdout",
          "text": [
            "7\n"
          ]
        }
      ]
    },
    {
      "cell_type": "code",
      "source": [
        "a=lambda x,y:x+y\n",
        "print(a(1,2))"
      ],
      "metadata": {
        "colab": {
          "base_uri": "https://localhost:8080/"
        },
        "id": "PI2hkisHwjVP",
        "outputId": "0c917de7-5970-4ba9-87e6-38d071942538"
      },
      "execution_count": 20,
      "outputs": [
        {
          "output_type": "stream",
          "name": "stdout",
          "text": [
            "3\n"
          ]
        }
      ]
    },
    {
      "cell_type": "code",
      "source": [
        "def factorial(x):\n",
        "  if x==1:\n",
        "    return 1\n",
        "  else:\n",
        "    return(x*factorial(x-1))\n",
        "num=int(input(\"enter: \"))\n",
        "print(\"The factorial of: \",num,\"is\",factorial(num))"
      ],
      "metadata": {
        "colab": {
          "base_uri": "https://localhost:8080/"
        },
        "id": "uEgvGBhTwuOx",
        "outputId": "862b2f33-1b61-43ff-b8f3-30b09a67495a"
      },
      "execution_count": 24,
      "outputs": [
        {
          "output_type": "stream",
          "name": "stdout",
          "text": [
            "enter: 5\n",
            "The factorial of:  5 is 120\n"
          ]
        }
      ]
    },
    {
      "cell_type": "code",
      "source": [
        "# function to generate the Fibonacci sequence up to a given number of terms\n",
        "def fibonacci_sequence(num_terms):\n",
        "    fib_list = [0, 1]\n",
        "    for i in range(2, num_terms):\n",
        "        next_term = fib_list[i-1] + fib_list[i-2]\n",
        "        fib_list.append(next_term)\n",
        "    return fib_list\n",
        "fib_seq = fibonacci_sequence(10)\n",
        "print(fib_seq)\n"
      ],
      "metadata": {
        "colab": {
          "base_uri": "https://localhost:8080/"
        },
        "id": "QDECqdMM0Gur",
        "outputId": "97f1809f-f43c-45d3-a286-e28308ce9dda"
      },
      "execution_count": 30,
      "outputs": [
        {
          "output_type": "stream",
          "name": "stdout",
          "text": [
            "[0, 1, 1, 2, 3, 5, 8, 13, 21, 34]\n"
          ]
        }
      ]
    },
    {
      "cell_type": "code",
      "source": [
        "import math\n",
        "pie=math.pi\n",
        "print(\"value of pie is: \",pie)"
      ],
      "metadata": {
        "colab": {
          "base_uri": "https://localhost:8080/"
        },
        "id": "32dEMTEk09_v",
        "outputId": "f7f6541e-b29b-4596-a7f9-68ee461b8272"
      },
      "execution_count": 32,
      "outputs": [
        {
          "output_type": "stream",
          "name": "stdout",
          "text": [
            "value of pie is:  3.141592653589793\n"
          ]
        }
      ]
    },
    {
      "cell_type": "code",
      "source": [
        "import math as rahul\n",
        "pie=rahul.pi\n",
        "print(\"value of pie is: \",pie)"
      ],
      "metadata": {
        "colab": {
          "base_uri": "https://localhost:8080/"
        },
        "id": "H5PHEjmf24Tx",
        "outputId": "f0479362-239f-4470-d73e-aa641f258915"
      },
      "execution_count": 34,
      "outputs": [
        {
          "output_type": "stream",
          "name": "stdout",
          "text": [
            "value of pie is:  3.141592653589793\n"
          ]
        }
      ]
    },
    {
      "cell_type": "code",
      "source": [
        "import random as ra\n",
        "for i in range(10):\n",
        "  print(ra.randint(1,25))"
      ],
      "metadata": {
        "colab": {
          "base_uri": "https://localhost:8080/"
        },
        "id": "YgInYiRP2bHK",
        "outputId": "898fdda0-b997-49c9-a5a3-ff2a18fb9f17"
      },
      "execution_count": 35,
      "outputs": [
        {
          "output_type": "stream",
          "name": "stdout",
          "text": [
            "25\n",
            "12\n",
            "25\n",
            "10\n",
            "8\n",
            "16\n",
            "19\n",
            "20\n",
            "24\n",
            "17\n"
          ]
        }
      ]
    },
    {
      "cell_type": "code",
      "source": [
        "import random\n",
        "import math\n",
        "for i in range(5):\n",
        "  print(random.randint(1,25))\n",
        "print(math.pi)"
      ],
      "metadata": {
        "colab": {
          "base_uri": "https://localhost:8080/"
        },
        "id": "BFnWN74L3ckO",
        "outputId": "b74e39ed-ef7d-496e-c103-6546d525ff89"
      },
      "execution_count": 36,
      "outputs": [
        {
          "output_type": "stream",
          "name": "stdout",
          "text": [
            "7\n",
            "10\n",
            "11\n",
            "21\n",
            "2\n",
            "3.141592653589793\n"
          ]
        }
      ]
    },
    {
      "cell_type": "code",
      "source": [
        "import random as ra\n",
        "import math as rahul\n",
        "for i in range(5):\n",
        "  print(ra.randint(1,25))\n",
        "print(rahul.pi)"
      ],
      "metadata": {
        "colab": {
          "base_uri": "https://localhost:8080/"
        },
        "id": "kYNhOTT_3xwh",
        "outputId": "959b67ee-1fac-4c72-af19-2aa8162deec0"
      },
      "execution_count": 37,
      "outputs": [
        {
          "output_type": "stream",
          "name": "stdout",
          "text": [
            "2\n",
            "10\n",
            "11\n",
            "15\n",
            "11\n",
            "3.141592653589793\n"
          ]
        }
      ]
    }
  ]
}