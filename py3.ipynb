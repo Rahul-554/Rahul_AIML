{
  "nbformat": 4,
  "nbformat_minor": 0,
  "metadata": {
    "colab": {
      "provenance": [],
      "authorship_tag": "ABX9TyNVvshGPxvy/DytNm6G91Fs",
      "include_colab_link": true
    },
    "kernelspec": {
      "name": "python3",
      "display_name": "Python 3"
    },
    "language_info": {
      "name": "python"
    }
  },
  "cells": [
    {
      "cell_type": "markdown",
      "metadata": {
        "id": "view-in-github",
        "colab_type": "text"
      },
      "source": [
        "<a href=\"https://colab.research.google.com/github/Rahul-554/Rahul_AIML/blob/main/py3.ipynb\" target=\"_parent\"><img src=\"https://colab.research.google.com/assets/colab-badge.svg\" alt=\"Open In Colab\"/></a>"
      ]
    },
    {
      "cell_type": "code",
      "source": [
        "for var in \"ABIT\":\n",
        "  if var==\"B\":\n",
        "    continue\n",
        "  print(var)"
      ],
      "metadata": {
        "colab": {
          "base_uri": "https://localhost:8080/"
        },
        "id": "-aoGH25qou1w",
        "outputId": "9db0c622-c1a6-4366-d1b7-c360f6218c99"
      },
      "execution_count": 4,
      "outputs": [
        {
          "output_type": "stream",
          "name": "stdout",
          "text": [
            "A\n",
            "I\n",
            "T\n"
          ]
        }
      ]
    },
    {
      "cell_type": "code",
      "source": [
        "for i in range(10):\n",
        "  print(i)\n",
        "  if i==2:\n",
        "    break"
      ],
      "metadata": {
        "colab": {
          "base_uri": "https://localhost:8080/"
        },
        "id": "e8S08g92pEej",
        "outputId": "b2ead802-78e8-4e9a-a820-15699ddb260b"
      },
      "execution_count": 5,
      "outputs": [
        {
          "output_type": "stream",
          "name": "stdout",
          "text": [
            "0\n",
            "1\n",
            "2\n"
          ]
        }
      ]
    },
    {
      "cell_type": "code",
      "source": [
        "for i in range(1, 11):\n",
        "    if i == 5:\n",
        "        continue\n",
        "    print(i)\n"
      ],
      "metadata": {
        "colab": {
          "base_uri": "https://localhost:8080/"
        },
        "id": "_TrChtDYpnMg",
        "outputId": "12c81b91-47af-4698-b6cc-93f537196687"
      },
      "execution_count": 6,
      "outputs": [
        {
          "output_type": "stream",
          "name": "stdout",
          "text": [
            "1\n",
            "2\n",
            "3\n",
            "4\n",
            "6\n",
            "7\n",
            "8\n",
            "9\n",
            "10\n"
          ]
        }
      ]
    },
    {
      "cell_type": "code",
      "source": [
        "li=['a','b','c','d']\n",
        "for i in li:\n",
        "  if(i=='a'):\n",
        "    pass\n",
        "  else:\n",
        "    print(i)"
      ],
      "metadata": {
        "colab": {
          "base_uri": "https://localhost:8080/"
        },
        "id": "i1Fk0NP_ra5O",
        "outputId": "98d393fd-a119-4532-f025-c53c603e8e67"
      },
      "execution_count": 8,
      "outputs": [
        {
          "output_type": "stream",
          "name": "stdout",
          "text": [
            "b\n",
            "c\n",
            "d\n"
          ]
        }
      ]
    },
    {
      "cell_type": "code",
      "source": [
        "n = int(input(\"value: \"))\n",
        "if 10 % 2 == 0:\n",
        "    current_num = 10\n",
        "else:\n",
        "    current_num = 11\n",
        "while current_num <= n:\n",
        "    print(current_num)\n",
        "    current_num += 2\n"
      ],
      "metadata": {
        "colab": {
          "base_uri": "https://localhost:8080/"
        },
        "id": "_3WP9AnOvdTu",
        "outputId": "757bc91a-e407-4d71-948c-52659e43b393"
      },
      "execution_count": 14,
      "outputs": [
        {
          "output_type": "stream",
          "name": "stdout",
          "text": [
            "value: 50\n",
            "10\n",
            "12\n",
            "14\n",
            "16\n",
            "18\n",
            "20\n",
            "22\n",
            "24\n",
            "26\n",
            "28\n",
            "30\n",
            "32\n",
            "34\n",
            "36\n",
            "38\n",
            "40\n",
            "42\n",
            "44\n",
            "46\n",
            "48\n",
            "50\n"
          ]
        }
      ]
    },
    {
      "cell_type": "code",
      "source": [
        "def SHOW():\n",
        "  print(\"HELLO PYTHON\")\n",
        "SHOW()"
      ],
      "metadata": {
        "colab": {
          "base_uri": "https://localhost:8080/"
        },
        "id": "8Ppm3CRkxj8v",
        "outputId": "807c5816-7d1e-4977-a430-6b8d87991edf"
      },
      "execution_count": 15,
      "outputs": [
        {
          "output_type": "stream",
          "name": "stdout",
          "text": [
            "HELLO PYTHON\n"
          ]
        }
      ]
    },
    {
      "cell_type": "code",
      "source": [
        "def sum(a,b):\n",
        "  print('a+b= ',(a+b))\n",
        "sum(22,55)"
      ],
      "metadata": {
        "colab": {
          "base_uri": "https://localhost:8080/"
        },
        "id": "2uLrDwkWyfdb",
        "outputId": "57b3675e-15f0-48cd-deaa-9d45526f5030"
      },
      "execution_count": 16,
      "outputs": [
        {
          "output_type": "stream",
          "name": "stdout",
          "text": [
            "a+b=  77\n"
          ]
        }
      ]
    },
    {
      "cell_type": "code",
      "source": [
        "def sum(a,b):\n",
        "  print('a+b= ',(a+b))\n",
        "x=int(input(\"value of x: \"))\n",
        "y=int(input(\"value of y: \"))\n",
        "sum(x,y)"
      ],
      "metadata": {
        "colab": {
          "base_uri": "https://localhost:8080/"
        },
        "id": "T0mFrAWnzVdT",
        "outputId": "4af0548a-e874-46f2-f133-fbfa593f9aa6"
      },
      "execution_count": 17,
      "outputs": [
        {
          "output_type": "stream",
          "name": "stdout",
          "text": [
            "value of x: 5\n",
            "value of y: 6\n",
            "a+b=  11\n"
          ]
        }
      ]
    },
    {
      "cell_type": "code",
      "source": [
        "#write a python program using function and take input from keyboard of a number to reverse it and count number of odd and evens\n",
        "def reverse_and_count(num):\n",
        "    even_count = 0\n",
        "    odd_count = 0\n",
        "    reverse_num = 0\n",
        "    while num > 0:\n",
        "        digit = num % 10\n",
        "        reverse_num = (reverse_num * 10) + digit\n",
        "        num = num // 10\n",
        "        if digit % 2 == 0:\n",
        "            even_count += 1\n",
        "        else:\n",
        "            odd_count += 1\n",
        "    return reverse_num, odd_count, even_count\n",
        "\n",
        "num = int(input(\"Enter a number: \"))\n",
        "reverse_num, odd_count, even_count = reverse_and_count(num)\n",
        "print(\"Reverse of the number:\", reverse_num)\n",
        "print(\"Number of odd digits:\", odd_count)\n",
        "print(\"Number of even digits:\", even_count)\n"
      ],
      "metadata": {
        "colab": {
          "base_uri": "https://localhost:8080/"
        },
        "id": "0g8Nc4zM0HxB",
        "outputId": "0f7ba1e2-0326-41b0-89c4-557e3ad71ec2"
      },
      "execution_count": 18,
      "outputs": [
        {
          "output_type": "stream",
          "name": "stdout",
          "text": [
            "Enter a number: 432\n",
            "Reverse of the number: 234\n",
            "Number of odd digits: 1\n",
            "Number of even digits: 2\n"
          ]
        }
      ]
    },
    {
      "cell_type": "code",
      "source": [],
      "metadata": {
        "id": "Th9JL7Pa2mUs"
      },
      "execution_count": null,
      "outputs": []
    }
  ]
}