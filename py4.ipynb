{
  "nbformat": 4,
  "nbformat_minor": 0,
  "metadata": {
    "colab": {
      "provenance": [],
      "authorship_tag": "ABX9TyPpJqse9CqQmrOr6nYhnboR",
      "include_colab_link": true
    },
    "kernelspec": {
      "name": "python3",
      "display_name": "Python 3"
    },
    "language_info": {
      "name": "python"
    }
  },
  "cells": [
    {
      "cell_type": "markdown",
      "metadata": {
        "id": "view-in-github",
        "colab_type": "text"
      },
      "source": [
        "<a href=\"https://colab.research.google.com/github/Rahul-554/Rahul_AIML/blob/main/py4.ipynb\" target=\"_parent\"><img src=\"https://colab.research.google.com/assets/colab-badge.svg\" alt=\"Open In Colab\"/></a>"
      ]
    },
    {
      "cell_type": "code",
      "execution_count": 2,
      "metadata": {
        "colab": {
          "base_uri": "https://localhost:8080/"
        },
        "id": "fxMSXNXFn2xU",
        "outputId": "0ca5036a-f08f-49ee-dadd-f1f6c4d5a7ab"
      },
      "outputs": [
        {
          "output_type": "stream",
          "name": "stdout",
          "text": [
            "Enter first number: 9\n",
            "Enter second number: 10\n",
            "The sum of the two numbers is: 19\n",
            "The product of the two numbers is: 90\n"
          ]
        }
      ],
      "source": [
        "#write a python program where the base class contains addition of two numbers and derieved class contains multiplication of same numbers\n",
        "class Addition:\n",
        "    def __init__(self, num1, num2):\n",
        "        self.num1 = num1\n",
        "        self.num2 = num2\n",
        "        \n",
        "    def add(self):\n",
        "        return self.num1 + self.num2\n",
        "        \n",
        "class Multiplication(Addition):\n",
        "    def multiply(self):\n",
        "        return self.num1 * self.num2\n",
        "        \n",
        "num1 = int(input(\"Enter first number: \"))\n",
        "num2 = int(input(\"Enter second number: \"))\n",
        "\n",
        "addition = Addition(num1, num2)\n",
        "print(\"The sum of the two numbers is:\", addition.add())\n",
        "\n",
        "multiplication = Multiplication(num1, num2)\n",
        "print(\"The product of the two numbers is:\", multiplication.multiply())\n"
      ]
    },
    {
      "cell_type": "code",
      "source": [
        "#write a python program to input employee informations, employee id, name, basic salary, HRA=15%, TA=5% and medical allowance 5% with basic salary 5000 and is 10% more than 10000 \n",
        "#using single inheritance the base class contains all employee informations but derieved class contains the net salary of a employee with all informations.\n",
        "class Employee:\n",
        "    def __init__(self, emp_id, name, basic_salary):\n",
        "        self.emp_id = emp_id\n",
        "        self.name = name\n",
        "        self.basic_salary = basic_salary\n",
        "        self.HRA = 0.15\n",
        "        self.TA = 0.05\n",
        "        self.medical_allowance = 0.05\n",
        "        \n",
        "        if self.basic_salary > 10000:\n",
        "            self.basic_salary += self.basic_salary * 0.1\n",
        "\n",
        "    def calculate_net_salary(self):\n",
        "        gross_salary = self.basic_salary + (self.basic_salary * self.HRA) + \\\n",
        "            (self.basic_salary * self.TA) + \\\n",
        "            (self.basic_salary * self.medical_allowance)\n",
        "        return gross_salary\n",
        "\n",
        "class EmployeeNetSalary(Employee):\n",
        "    def __init__(self, emp_id, name, basic_salary):\n",
        "        super().__init__(emp_id, name, basic_salary)\n",
        "\n",
        "    def calculate_net_salary(self):\n",
        "        gross_salary = super().calculate_net_salary()\n",
        "        net_salary = gross_salary - (gross_salary * 0.1)\n",
        "        return net_salary\n",
        "\n",
        "\n",
        "\n",
        "emp_id = input(\"Enter employee ID: \")\n",
        "name = input(\"Enter employee name: \")\n",
        "basic_salary = float(input(\"Enter basic salary: \"))\n",
        "\n",
        "employee = EmployeeNetSalary(emp_id, name, basic_salary)\n",
        "net_salary = employee.calculate_net_salary()\n",
        "\n",
        "print(f\"Employee ID: {employee.emp_id}\")\n",
        "print(f\"Employee Name: {employee.name}\")\n",
        "print(f\"Net Salary: {net_salary:.2f}\")\n"
      ],
      "metadata": {
        "colab": {
          "base_uri": "https://localhost:8080/"
        },
        "id": "XExjlgQu0Ixr",
        "outputId": "f1ef527d-e4b1-420e-9387-d124c0f8128f"
      },
      "execution_count": 19,
      "outputs": [
        {
          "output_type": "stream",
          "name": "stdout",
          "text": [
            "Enter employee ID: 4342\n",
            "Enter employee name: rahul\n",
            "Enter basic salary: 50000\n",
            "Employee ID: 4342\n",
            "Employee Name: rahul\n",
            "Net Salary: 61875.00\n"
          ]
        }
      ]
    }
  ]
}